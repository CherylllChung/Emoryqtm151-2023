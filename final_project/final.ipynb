{
 "cells": [
  {
   "attachments": {},
   "cell_type": "markdown",
   "metadata": {},
   "source": [
    "# <span style=\"color:darkblue\"> QTM 151 - Final Project </span>"
   ]
  },
  {
   "attachments": {},
   "cell_type": "markdown",
   "metadata": {},
   "source": [
    "# Introduction\n",
    "\n",
    "Formula-1 Race is the most renowned and popular vehicle race around the world. According to an official introduction video, drivers from all around the world will compete in several preset locations’ Grand Prix by driving their auto for a specific number of laps around the track. Prior to the formal competition, the drivers would be ranked by qualifying the time completing a certain number of laps, and the lower the time spent, the more forward the corresponding driver would start the formal race. In each Grand Prix, the drivers are assigned points based on their rankings, and the driver who acquires the most total points in all the Grand Prixs in the season will win the championship.\n",
    "\n",
    "This project explores the relationship between the place of the competition and the performance of drivers. Specifically, we are trying to summarize how the altitude of the race circuits would affect the fastest speed of drivers during that race. The conditions of air concentration, temperature, and basic rock formations might differ between tracks at different altitudes, so drivers may need to adjust modes or control their average and maximum speed in the race so that the engines would not be overly damaged and they would not have to stop for repairs too much. Additionally, the vehicle producers would also need such information so they can specifically design the vehicles for different tracks and different drivers. \n"
   ]
  },
  {
   "cell_type": "code",
   "execution_count": 8,
   "metadata": {},
   "outputs": [],
   "source": [
    "import numpy as np\n",
    "import pandas as pd\n",
    "import matplotlib.pyplot as plt\n",
    "from   matplotlib import style\n",
    "from   matplotlib import ticker\n",
    "import matplotlib.dates as mdates"
   ]
  },
  {
   "attachments": {},
   "cell_type": "markdown",
   "metadata": {},
   "source": [
    "# Data Description\n",
    "\n",
    "## Datasets Used\n",
    "In this project, we used three datasets out of the 14: “circuits.csv”, “races.csv”, and “results.csv”. Specifically, “circults.csv” documents the name of the tracks for racing, their location, countries and cities, longitudes, latitudes, and altitude information. A total of 79 tracks are recorded in the file. The “races.csv” file records all the Grand Prixs between 2009 and 2023, inclusive. A total of 1120 Grand Prixs were performed during that period of time, the number of rounds each year varying from 16 to 23. The “circultId” column denotes the track where each round of competition is located, and the date and starting time of the races are recorded in the preceding columns. The “results.csv” is linked to a number of other tables to store the results of each round of the races. “resultId” is an integer that serves as the primary key for the table, while the “raceId”, “driverId”, “constructorId”, and “statusId” are foreign keys that link this table to the races, drivers, constructors, and status tables. “Number” is the driver’s number, and “grid” is an integer that represents each driver’s starting location. “Position”, “positionText”, and “positionOrder” are stored as different types of variables, but they all denote the drivers’ positions. “Points” stores the points that each driver earns in a certain race, which is also related to the drivers’ rankings stored in the “rank” column. “Time” and “milliseconds” both represent the finishing time, but they are stored as different types of variables. “Laps” records the total number of laps completed by each driver, and “fastestLap” stores in which lap does each driver complete the fastest. Finally, “fastestLapTime” and “fastestLapSpeed” denote the amount of time spent on the fastest lap and the running speed, respectively. In the results table, a total of 25845 observations are recorded."
   ]
  },
  {
   "cell_type": "code",
   "execution_count": 9,
   "metadata": {},
   "outputs": [],
   "source": [
    "circuits = pd.read_csv(\"data_raw/circuits.csv\")\n",
    "races = pd.read_csv(\"data_raw/races.csv\")\n",
    "results = pd.read_csv(\"data_raw/results.csv\")"
   ]
  },
  {
   "attachments": {},
   "cell_type": "markdown",
   "metadata": {},
   "source": [
    "# clean + merge\n",
    "\n",
    "## Data Cleaning\n",
    "In this project, we are working with three datasets: races, circuits, and results. We want to have alt from circuits and fastestLapSpeed from results in the same table so we can explore the relationship between the altitude of the competition location and the performance of drivers measured by fastest Lap speed.\n",
    " \n",
    "First, using the str.isnumeric() method, we create a subset of the results dataset that contains only the rows where the value is not numeric and print the unique non-numeric values out. Then we clean the alt column of the circuits dataset by replacing the \\\\N and -7 values with NaN (Not a Number), which is a special value in pandas that represents missing or undefined data, and -7, respectively. \n",
    "The resulting cleaned column is saved as “alt_numeric”. \n",
    "\n",
    "\n",
    "\n",
    "Then, we clean the fastestLapSpeed column of the result dataset using the same procedure other than directly replacing \\\\N with NaN in the column. As we convert the fastestLapSpeed column to a numeric data type, we save the resulting cleaned column as “fastestLapSpeed_numeric”.\n",
    "\n",
    "\n",
    "By cleaning the circuits and fastestLapSpeed dataset in this way, we ensure that the resulting merged dataset contains accurate and consistent data that can be used for analysis and modeling. "
   ]
  },
  {
   "cell_type": "code",
   "execution_count": 37,
   "metadata": {},
   "outputs": [
    {
     "name": "stdout",
     "output_type": "stream",
     "text": [
      "[]\n",
      "['218.300' '217.586' '216.719' ... '211.632' '208.556' '209.889']\n"
     ]
    }
   ],
   "source": [
    "# clean alt\n",
    "circuits[\"alt\"].str.isnumeric()\n",
    "subset      = circuits.query(\"alt.str.isnumeric() == False\")\n",
    "list_unique = pd.unique(subset[\"alt\"])\n",
    "print(list_unique)\n",
    "list_old = ['\\\\N','-7']\n",
    "list_new = [np.nan,-7]\n",
    "circuits[\"alt\"] = circuits[\"alt\"].replace(list_old, list_new)\n",
    "circuits[\"alt_numeric\"] = pd.to_numeric(circuits[\"alt\"])\n",
    "\n",
    "\n",
    "# clean lapspeed\n",
    "results[\"fastestLapSpeed\"].str.isnumeric()\n",
    "subset2      = results.query(\"fastestLapSpeed.str.isnumeric() == False\")\n",
    "list_unique = pd.unique(subset2[\"fastestLapSpeed\"])\n",
    "print(list_unique)\n",
    "results['fastestLapSpeed'] = results['fastestLapSpeed'].replace('\\\\N', np.nan)\n",
    "results[\"fastestLapSpeed_numeric\"] = pd.to_numeric(results[\"fastestLapSpeed\"])"
   ]
  },
  {
   "attachments": {},
   "cell_type": "markdown",
   "metadata": {},
   "source": [
    "\n",
    "## Merging Tables\n",
    "We needed to include two cleaned data columns in the merged dataset. Since the alt column is present in the circuits dataset and the fastestLapSpeed column is present in the results dataset, we first need to merge the circuits and results datasets with the races dataset on the circuitId and raceId columns respectively, to obtain a single DataFrame with all the relevant columns. \n",
    "\n",
    "First, we merge the races dataset with the circuits dataset on the circuitId column using a left join, and the resulting merged dataset is stored in a new DataFrame called race_with_alt_clean. Then, we merge the results dataset with the race_with_alt_clean DataFrame on the raceId column using a left join, and the resulting merged dataset is stored in a new DataFrame called data_merge. This merged DataFrame contains the necessary information to explore the relationship between the altitude of the circuit where a race was held and the fastest lap speed recorded during the race.\n"
   ]
  },
  {
   "cell_type": "code",
   "execution_count": 10,
   "metadata": {},
   "outputs": [
    {
     "name": "stdout",
     "output_type": "stream",
     "text": [
      "['\\\\N' '-7']\n",
      "['218.300' '217.586' '216.719' ... '211.632' '208.556' '209.889']\n"
     ]
    }
   ],
   "source": [
    "# merge\n",
    "results[\"fastestLapSpeed_numeric\"].mean()\n",
    "race_with_alt_clean = pd.merge(races,\n",
    "                      circuits[[\"circuitId\",\"alt_numeric\"]],\n",
    "                        on = \"circuitId\",\n",
    "                        how = \"left\")\n",
    "\n",
    "\n",
    "data_merge   = pd.merge(race_with_alt_clean,\n",
    "                      results[[\"raceId\",\"fastestLapSpeed_numeric\"]],\n",
    "                        on = \"raceId\",\n",
    "                        how = \"left\")\n"
   ]
  },
  {
   "attachments": {},
   "cell_type": "markdown",
   "metadata": {},
   "source": [
    "# Main Columns Used"
   ]
  },
  {
   "attachments": {},
   "cell_type": "markdown",
   "metadata": {},
   "source": [
    "# Compute"
   ]
  },
  {
   "cell_type": "code",
   "execution_count": 36,
   "metadata": {},
   "outputs": [
    {
     "data": {
      "text/html": [
       "<div>\n",
       "<style scoped>\n",
       "    .dataframe tbody tr th:only-of-type {\n",
       "        vertical-align: middle;\n",
       "    }\n",
       "\n",
       "    .dataframe tbody tr th {\n",
       "        vertical-align: top;\n",
       "    }\n",
       "\n",
       "    .dataframe thead th {\n",
       "        text-align: right;\n",
       "    }\n",
       "</style>\n",
       "<table border=\"1\" class=\"dataframe\">\n",
       "  <thead>\n",
       "    <tr style=\"text-align: right;\">\n",
       "      <th></th>\n",
       "      <th>mean_fastestLapSpeed</th>\n",
       "      <th>median_fastestLapSpeed</th>\n",
       "      <th>std_fastestLapSpeed</th>\n",
       "    </tr>\n",
       "    <tr>\n",
       "      <th>bins_alt</th>\n",
       "      <th></th>\n",
       "      <th></th>\n",
       "      <th></th>\n",
       "    </tr>\n",
       "  </thead>\n",
       "  <tbody>\n",
       "    <tr>\n",
       "      <th>less than 0</th>\n",
       "      <td>197.247349</td>\n",
       "      <td>199.6540</td>\n",
       "      <td>8.804440</td>\n",
       "    </tr>\n",
       "    <tr>\n",
       "      <th>Between 0 and 50</th>\n",
       "      <td>195.402612</td>\n",
       "      <td>200.5935</td>\n",
       "      <td>21.580479</td>\n",
       "    </tr>\n",
       "    <tr>\n",
       "      <th>Between 50 and 100</th>\n",
       "      <td>NaN</td>\n",
       "      <td>NaN</td>\n",
       "      <td>NaN</td>\n",
       "    </tr>\n",
       "    <tr>\n",
       "      <th>Between 100 and 150</th>\n",
       "      <td>204.482128</td>\n",
       "      <td>206.5600</td>\n",
       "      <td>11.341499</td>\n",
       "    </tr>\n",
       "    <tr>\n",
       "      <th>Between 150 and 200</th>\n",
       "      <td>223.523929</td>\n",
       "      <td>226.9060</td>\n",
       "      <td>19.603777</td>\n",
       "    </tr>\n",
       "    <tr>\n",
       "      <th>Between 200 and 250</th>\n",
       "      <td>203.902916</td>\n",
       "      <td>204.5680</td>\n",
       "      <td>9.142384</td>\n",
       "    </tr>\n",
       "    <tr>\n",
       "      <th>Between 250 and 300</th>\n",
       "      <td>188.403188</td>\n",
       "      <td>189.2690</td>\n",
       "      <td>12.300952</td>\n",
       "    </tr>\n",
       "    <tr>\n",
       "      <th>Between 300 and 350</th>\n",
       "      <td>NaN</td>\n",
       "      <td>NaN</td>\n",
       "      <td>NaN</td>\n",
       "    </tr>\n",
       "    <tr>\n",
       "      <th>Between 350 and 400</th>\n",
       "      <td>NaN</td>\n",
       "      <td>NaN</td>\n",
       "      <td>NaN</td>\n",
       "    </tr>\n",
       "    <tr>\n",
       "      <th>Between 400 and 450</th>\n",
       "      <td>224.029943</td>\n",
       "      <td>224.0540</td>\n",
       "      <td>8.528814</td>\n",
       "    </tr>\n",
       "    <tr>\n",
       "      <th>Between 450 and 500</th>\n",
       "      <td>NaN</td>\n",
       "      <td>NaN</td>\n",
       "      <td>NaN</td>\n",
       "    </tr>\n",
       "    <tr>\n",
       "      <th>Between 500 and 550</th>\n",
       "      <td>NaN</td>\n",
       "      <td>NaN</td>\n",
       "      <td>NaN</td>\n",
       "    </tr>\n",
       "    <tr>\n",
       "      <th>Between 550 and 600</th>\n",
       "      <td>193.563826</td>\n",
       "      <td>196.6300</td>\n",
       "      <td>16.360166</td>\n",
       "    </tr>\n",
       "    <tr>\n",
       "      <th>Between 600 and 650</th>\n",
       "      <td>NaN</td>\n",
       "      <td>NaN</td>\n",
       "      <td>NaN</td>\n",
       "    </tr>\n",
       "    <tr>\n",
       "      <th>Between 650 and 700</th>\n",
       "      <td>222.769838</td>\n",
       "      <td>224.8725</td>\n",
       "      <td>9.270860</td>\n",
       "    </tr>\n",
       "    <tr>\n",
       "      <th>Between 700 and 750</th>\n",
       "      <td>NaN</td>\n",
       "      <td>NaN</td>\n",
       "      <td>NaN</td>\n",
       "    </tr>\n",
       "    <tr>\n",
       "      <th>Between 750 and 800</th>\n",
       "      <td>205.282315</td>\n",
       "      <td>207.7960</td>\n",
       "      <td>10.737036</td>\n",
       "    </tr>\n",
       "    <tr>\n",
       "      <th>Between 800 and 900</th>\n",
       "      <td>NaN</td>\n",
       "      <td>NaN</td>\n",
       "      <td>NaN</td>\n",
       "    </tr>\n",
       "    <tr>\n",
       "      <th>Between 900 and 1000</th>\n",
       "      <td>NaN</td>\n",
       "      <td>NaN</td>\n",
       "      <td>NaN</td>\n",
       "    </tr>\n",
       "    <tr>\n",
       "      <th>greater than 1000</th>\n",
       "      <td>189.674145</td>\n",
       "      <td>189.6865</td>\n",
       "      <td>3.581610</td>\n",
       "    </tr>\n",
       "  </tbody>\n",
       "</table>\n",
       "</div>"
      ],
      "text/plain": [
       "                      mean_fastestLapSpeed  median_fastestLapSpeed  \\\n",
       "bins_alt                                                             \n",
       "less than 0                     197.247349                199.6540   \n",
       "Between 0 and 50                195.402612                200.5935   \n",
       "Between 50 and 100                     NaN                     NaN   \n",
       "Between 100 and 150             204.482128                206.5600   \n",
       "Between 150 and 200             223.523929                226.9060   \n",
       "Between 200 and 250             203.902916                204.5680   \n",
       "Between 250 and 300             188.403188                189.2690   \n",
       "Between 300 and 350                    NaN                     NaN   \n",
       "Between 350 and 400                    NaN                     NaN   \n",
       "Between 400 and 450             224.029943                224.0540   \n",
       "Between 450 and 500                    NaN                     NaN   \n",
       "Between 500 and 550                    NaN                     NaN   \n",
       "Between 550 and 600             193.563826                196.6300   \n",
       "Between 600 and 650                    NaN                     NaN   \n",
       "Between 650 and 700             222.769838                224.8725   \n",
       "Between 700 and 750                    NaN                     NaN   \n",
       "Between 750 and 800             205.282315                207.7960   \n",
       "Between 800 and 900                    NaN                     NaN   \n",
       "Between 900 and 1000                   NaN                     NaN   \n",
       "greater than 1000               189.674145                189.6865   \n",
       "\n",
       "                      std_fastestLapSpeed  \n",
       "bins_alt                                   \n",
       "less than 0                      8.804440  \n",
       "Between 0 and 50                21.580479  \n",
       "Between 50 and 100                    NaN  \n",
       "Between 100 and 150             11.341499  \n",
       "Between 150 and 200             19.603777  \n",
       "Between 200 and 250              9.142384  \n",
       "Between 250 and 300             12.300952  \n",
       "Between 300 and 350                   NaN  \n",
       "Between 350 and 400                   NaN  \n",
       "Between 400 and 450              8.528814  \n",
       "Between 450 and 500                   NaN  \n",
       "Between 500 and 550                   NaN  \n",
       "Between 550 and 600             16.360166  \n",
       "Between 600 and 650                   NaN  \n",
       "Between 650 and 700              9.270860  \n",
       "Between 700 and 750                   NaN  \n",
       "Between 750 and 800             10.737036  \n",
       "Between 800 and 900                   NaN  \n",
       "Between 900 and 1000                  NaN  \n",
       "greater than 1000                3.581610  "
      ]
     },
     "metadata": {},
     "output_type": "display_data"
    },
    {
     "data": {
      "text/plain": [
       "203.08921412115313"
      ]
     },
     "metadata": {},
     "output_type": "display_data"
    },
    {
     "data": {
      "text/plain": [
       "204.291"
      ]
     },
     "metadata": {},
     "output_type": "display_data"
    },
    {
     "data": {
      "text/plain": [
       "21.35687608030935"
      ]
     },
     "metadata": {},
     "output_type": "display_data"
    },
    {
     "data": {
      "image/png": "[encoded data removed]",
      "text/plain": [
       "<Figure size 1000x600 with 1 Axes>"
      ]
     },
     "metadata": {},
     "output_type": "display_data"
    }
   ],
   "source": [
    "bins_alt = [float('-inf'),0, 50, 100, 150, 200, 250, 300, 350, 400, 450, 500, 550, 600, 650, 700, 750, 800, 900, 1000, float('inf')]\n",
    "labels_alt = [\"less than 0\",\n",
    "            \"Between 0 and 50\",\n",
    "            \"Between 50 and 100\",\n",
    "            \"Between 100 and 150\",\n",
    "            \"Between 150 and 200\",\n",
    "            \"Between 200 and 250\",\n",
    "            \"Between 250 and 300\",\n",
    "            \"Between 300 and 350\",\n",
    "            \"Between 350 and 400\",\n",
    "            \"Between 400 and 450\",\n",
    "            \"Between 450 and 500\",\n",
    "            \"Between 500 and 550\",\n",
    "            \"Between 550 and 600\",\n",
    "            \"Between 600 and 650\",\n",
    "            \"Between 650 and 700\",\n",
    "            \"Between 700 and 750\",\n",
    "            \"Between 750 and 800\",\n",
    "            \"Between 800 and 900\",\n",
    "            \"Between 900 and 1000\",\n",
    "            \"greater than 1000\"]\n",
    "           \n",
    "\n",
    "data_merge[\"bins_alt\"] = pd.cut(data_merge[\"alt_numeric\"],\n",
    "                              bins = bins_alt,\n",
    "                              right = True,\n",
    "                              labels = labels_alt)\n",
    "\n",
    "\n",
    "\n",
    "## descriptive statistics/result table\n",
    "table = data_merge.groupby(\"bins_alt\").agg(mean_fastestLapSpeed = ('fastestLapSpeed_numeric', 'mean'),\n",
    "                                           median_fastestLapSpeed = ('fastestLapSpeed_numeric', 'median'),\n",
    "                                           std_fastestLapSpeed = ('fastestLapSpeed_numeric', 'std'))\n",
    "\n",
    "display(table)\n",
    "\n",
    "display(data_merge[\"fastestLapSpeed_numeric\"].mean())\n",
    "display(data_merge[\"fastestLapSpeed_numeric\"].median())\n",
    "display(data_merge[\"fastestLapSpeed_numeric\"].std())\n",
    "\n",
    "\n",
    "#graph\n",
    "fig, ax = plt.subplots(figsize=(10, 6))\n",
    "ax.bar(labels_alt, table[\"mean_fastestLapSpeed\"])\n",
    "ax.set_ylabel(\"altitude intervals\")\n",
    "ax.set_xlabel(\"Fastest Lap Speed\")\n",
    "ax.set_title(\"Histogram of portfolio growth\")\n",
    "\n",
    "ax.xaxis.set_tick_params(labelsize = 7,\n",
    "                         rotation=75)\n"
   ]
  },
  {
   "attachments": {},
   "cell_type": "markdown",
   "metadata": {},
   "source": [
    "The mean value of the fastest speed of all recorded drivers' races is roughly 203.089. Among the bins of the altitude ranges, \"between 150 and 200\", \"between 400 and 450\", and \"between 650 and 700\" have a significantly higher mean value than the entire dataset with an average fastest speed of over 220. In tracks with altitudes \"less than 0\", \"between 0 and 50\", \"between 250 and 300\", \"between 550 and 600\", and \"greater than 1000\", the average fastest speed were below 200. The remaining bins with meaningful values have similar average fastest speeds with the entire dataset. The fastest speed in a race seems to be somewhat related to the altitude, although the specific relationship could not be accurately determined.\n",
    "\n",
    "The median fastest speed of the entire dataset is 204.291, and it is not significantly different from the population mean. Within each bin, the medians also closely align with mean values.\n",
    "\n",
    "The standard deviation of the fastest speed of the entire dataset is roughly 21.3569, and non of the bins has an average that is larger or smaller than the population mean by larger than one standard deviation, not to mention two standard deviation. Hence, the data seems fairly concentrated."
   ]
  },
  {
   "cell_type": "code",
   "execution_count": 12,
   "metadata": {},
   "outputs": [
    {
     "data": {
      "text/plain": [
       "Text(0, 0.5, 'frequency')"
      ]
     },
     "execution_count": 12,
     "metadata": {},
     "output_type": "execute_result"
    },
    {
     "data": {
      "image/png": "[encoded data removed]",
      "text/plain": [
       "<Figure size 640x480 with 1 Axes>"
      ]
     },
     "metadata": {},
     "output_type": "display_data"
    }
   ],
   "source": [
    "plt.hist(x = data_merge[\"alt_numeric\"])\n",
    "plt.xlabel(\"altitudes\")\n",
    "plt.ylabel(\"frequency\")"
   ]
  },
  {
   "cell_type": "code",
   "execution_count": 13,
   "metadata": {},
   "outputs": [
    {
     "data": {
      "text/plain": [
       "Text(0, 0.5, 'frequency')"
      ]
     },
     "execution_count": 13,
     "metadata": {},
     "output_type": "execute_result"
    },
    {
     "data": {
      "image/png": "[encoded data removed]",
      "text/plain": [
       "<Figure size 640x480 with 1 Axes>"
      ]
     },
     "metadata": {},
     "output_type": "display_data"
    }
   ],
   "source": [
    "plt.hist(x = data_merge[\"fastestLapSpeed_numeric\"])\n",
    "plt.xlabel(\"Fastest Lap Speed\")\n",
    "plt.ylabel(\"frequency\")"
   ]
  },
  {
   "attachments": {},
   "cell_type": "markdown",
   "metadata": {},
   "source": [
    "From the histograms above, we can clearly see that most Grand Prixs are held in low-altitude locations, with over 20000 observations being recorded at tracks of an altitude that is lower than 500, and most of the fastest speed data are located somewhere between 175 and 240. THe distribution of the fastest speeds are centered around the mean value of 203.089, but it is hard to detect any relationship between the mean value of the fastest speed within each latitude bin and its corresponding standard deviation because the sample size of each altitude bin varies sharply, creating huge discrepancies in the standard deviation, even if the mean values are close."
   ]
  },
  {
   "attachments": {},
   "cell_type": "markdown",
   "metadata": {},
   "source": [
    "# Results\n",
    "The results are shown in the table and plot below. The average fastest speed is the highest in the altitude bins of 150-200, 450-500, and 650-700. There seems to be a gradual increase in the fastest speed between altitudes from less than zero and 200, a gradual decline between 200 and 300, and another major decline trend for altitudes higher than 700. However, we failed to discover a linear relationship between the altitude and the fastest speed. To further explore their relationships, some types of piecewise interpolation and extrapolation might be necessary."
   ]
  },
  {
   "attachments": {},
   "cell_type": "markdown",
   "metadata": {},
   "source": [
    "# Conclusion and Future Work\n",
    "It is concluded that there is not a linear relationship between the fastest speed in a race and the altitude of the track, although there were some trends within the subsectors of altitudes. A number of factors could have contributed to the inconclusive result: firstly, there are too many other relevant variables like the type of the vehicle and drivers’ competition styles that are present to be controlled; secondly, there are very limited tracks for the Grand Prixs; and thirdly, even if there is a correlation, it still could not imply causal relationship. For future work, it is suggested that more multivariable linear or quadratic regressions should be done to determine how each factor affects the fastest speed, and how much they are related via the R-squared statistics."
   ]
  }
 ],
 "metadata": {
  "kernelspec": {
   "display_name": "Python 3",
   "language": "python",
   "name": "python3"
  },
  "language_info": {
   "codemirror_mode": {
    "name": "ipython",
    "version": 3
   },
   "file_extension": ".py",
   "mimetype": "text/x-python",
   "name": "python",
   "nbconvert_exporter": "python",
   "pygments_lexer": "ipython3",
   "version": "3.9.13"
  },
  "orig_nbformat": 4,
  "vscode": {
   "interpreter": {
    "hash": "aee8b7b246df8f9039afb4144a1f6fd8d2ca17a180786b69acc140d282b71a49"
   }
  }
 },
 "nbformat": 4,
 "nbformat_minor": 2
}
