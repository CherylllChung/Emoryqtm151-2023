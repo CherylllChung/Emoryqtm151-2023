{
 "cells": [
  {
   "cell_type": "code",
   "execution_count": 137,
   "metadata": {},
   "outputs": [],
   "source": [
    "import numpy as np\n",
    "import pandas as pd\n",
    "import matplotlib.pyplot as plt\n",
    "\n",
    "results = pd.read_csv(\"data_raw/results.csv\")\n",
    "races = pd.read_csv(\"data_raw/races.csv\")\n",
    "circuits = pd.read_csv(\"data_raw/circuits.csv\")\n"
   ]
  },
  {
   "attachments": {},
   "cell_type": "markdown",
   "metadata": {},
   "source": [
    " Introduction\n",
    " A markdown text with 1-2 paragraph that summarize the main goals of the project. The first paragraph should briefly describe what Formula 1 is, what question you’re interested in, and why it is relevant. The introduction should end with a high-level description of the results and the coming structure of the project. Try to make the text self-contained, intended for someone who isn’t familiar with Formula 1 or the dataset"
   ]
  },
  {
   "attachments": {},
   "cell_type": "markdown",
   "metadata": {},
   "source": [
    "Data description: \n",
    "Write a markdown chunk of 1 paragraph describing which dataset tables (among the 14) you will be using. State what each row represents, how many observations are contained in each table, the years, and a brief overview of the of the data that is contained there:\n",
    "▪ Import any necessary libraries.\n",
    "▪ Import the data.\n",
    "▪ Do any calculations for counting the number of rows, etc.\n"
   ]
  },
  {
   "cell_type": "code",
   "execution_count": 138,
   "metadata": {},
   "outputs": [
    {
     "name": "stdout",
     "output_type": "stream",
     "text": [
      "The number of rows in the results dataset is 25840.\n",
      "The number of rows in the races dataset is 1102.\n",
      "The number of rows in the circuits dataset is 77.\n"
     ]
    }
   ],
   "source": [
    "# Get the number of rows in each dataset\n",
    "results_num_rows = results.shape[0]\n",
    "races_num_rows = races.shape[0]\n",
    "circuits_num_rows = circuits.shape[0]\n",
    "\n",
    "print(f\"The number of rows in the results dataset is {results_num_rows}.\")\n",
    "print(f\"The number of rows in the races dataset is {races_num_rows}.\")\n",
    "print(f\"The number of rows in the circuits dataset is {circuits_num_rows}.\")"
   ]
  },
  {
   "cell_type": "code",
   "execution_count": 139,
   "metadata": {},
   "outputs": [
    {
     "name": "stdout",
     "output_type": "stream",
     "text": [
      "[2009 2008 2007 2006 2005 2004 2003 2002 2001 2000 1999 1998 1997 1996\n",
      " 1995 1994 1993 1992 1991 1990 2010 1989 1988 1987 1986 1985 1984 1983\n",
      " 1982 1981 1980 1979 1978 1977 1976 1975 1974 1973 1972 1971 1970 1969\n",
      " 1968 1967 1966 1965 1964 1963 1962 1961 1960 1959 1958 1957 1956 1955\n",
      " 1954 1953 1952 1951 1950 2011 2012 2013 2014 2015 2016 2017 2018 2019\n",
      " 2020 2021 2022 2023]\n",
      "74\n"
     ]
    }
   ],
   "source": [
    "unique_years = races['year'].unique()\n",
    "print(unique_years)\n",
    "\n",
    "# Get the number of unique release years in the merged dataset\n",
    "num_unique_years = races['year'].nunique()\n",
    "\n",
    "# Print the resulting number\n",
    "print(num_unique_years)"
   ]
  },
  {
   "cell_type": "markdown",
   "metadata": {},
   "source": [
    "o Write a paragraph in markdown summarizing data cleaning procedures: \n",
    "▪ Include code for data cleaning."
   ]
  },
  {
   "cell_type": "code",
   "execution_count": 141,
   "metadata": {},
   "outputs": [
    {
     "name": "stdout",
     "output_type": "stream",
     "text": [
      "[]\n",
      "['218.300' '217.586' '216.719' ... '211.632' '208.556' '209.889']\n"
     ]
    }
   ],
   "source": [
    "# clean alt\n",
    "circuits[\"alt\"].str.isnumeric()\n",
    "subset      = circuits.query(\"alt.str.isnumeric() == False\")\n",
    "list_unique = pd.unique(subset[\"alt\"])\n",
    "print(list_unique)\n",
    "list_old = ['\\\\N','-7']\n",
    "list_new = [np.nan,-7]\n",
    "circuits[\"alt\"] = circuits[\"alt\"].replace(list_old, list_new)\n",
    "circuits[\"alt_numeric\"] = pd.to_numeric(circuits[\"alt\"])\n",
    "\n",
    "\n",
    "# clean fastestlapspeed\n",
    "results[\"fastestLapSpeed\"].str.isnumeric()\n",
    "subset2      = results.query(\"fastestLapSpeed.str.isnumeric() == False\")\n",
    "list_unique = pd.unique(subset2[\"fastestLapSpeed\"])\n",
    "print(list_unique)\n",
    "results['fastestLapSpeed'] = results['fastestLapSpeed'].replace('\\\\N', np.nan)\n",
    "results[\"fastestLapSpeed_numeric\"] = pd.to_numeric(results[\"fastestLapSpeed\"])\n",
    "\n",
    "fastestLapSpeed_numeric"
   ]
  },
  {
   "attachments": {},
   "cell_type": "markdown",
   "metadata": {},
   "source": [
    "o Write a paragraph in markdown describing any merging procedures: \n",
    "▪ Include code for merging. "
   ]
  },
  {
   "cell_type": "code",
   "execution_count": 142,
   "metadata": {},
   "outputs": [],
   "source": [
    "# merge\n",
    "results[\"fastestLapSpeed_numeric\"].mean()\n",
    "race_with_alt_clean = pd.merge(races,\n",
    "                      circuits[[\"circuitId\",\"alt_numeric\"]],\n",
    "                        on = \"circuitId\",\n",
    "                        how = \"left\")\n",
    "\n",
    "\n",
    "data_merge   = pd.merge(race_with_alt_clean,\n",
    "                      results[[\"raceId\",\"fastestLapSpeed_numeric\"]],\n",
    "                        on = \"raceId\",\n",
    "                        how = \"left\")"
   ]
  },
  {
   "cell_type": "code",
   "execution_count": 143,
   "metadata": {},
   "outputs": [
    {
     "name": "stdout",
     "output_type": "stream",
     "text": [
      "25863\n"
     ]
    }
   ],
   "source": [
    "# Get the number of rows in the merged dataset\n",
    "num_rows = data_merge.shape[0]\n",
    "\n",
    "# Print the resulting number\n",
    "print(num_rows)"
   ]
  },
  {
   "attachments": {},
   "cell_type": "markdown",
   "metadata": {},
   "source": [
    "o Write a paragraph describing your main columns:\n",
    "▪ Compute a table of descriptive statistics for the main columns of the merged dataset that you’re interested. Try to be selective. The idea is to do a deeper analysis of a few columns rather than to do a lot."
   ]
  },
  {
   "cell_type": "code",
   "execution_count": 146,
   "metadata": {},
   "outputs": [
    {
     "data": {
      "text/html": [
       "<div>\n",
       "<style scoped>\n",
       "    .dataframe tbody tr th:only-of-type {\n",
       "        vertical-align: middle;\n",
       "    }\n",
       "\n",
       "    .dataframe tbody tr th {\n",
       "        vertical-align: top;\n",
       "    }\n",
       "\n",
       "    .dataframe thead th {\n",
       "        text-align: right;\n",
       "    }\n",
       "</style>\n",
       "<table border=\"1\" class=\"dataframe\">\n",
       "  <thead>\n",
       "    <tr style=\"text-align: right;\">\n",
       "      <th></th>\n",
       "      <th>mean_fastestLapSpeed</th>\n",
       "      <th>median_fastestLapSpeed</th>\n",
       "      <th>std_fastestLapSpeed</th>\n",
       "    </tr>\n",
       "    <tr>\n",
       "      <th>bins_alt</th>\n",
       "      <th></th>\n",
       "      <th></th>\n",
       "      <th></th>\n",
       "    </tr>\n",
       "  </thead>\n",
       "  <tbody>\n",
       "    <tr>\n",
       "      <th>less than 0</th>\n",
       "      <td>197.247349</td>\n",
       "      <td>199.6540</td>\n",
       "      <td>8.804440</td>\n",
       "    </tr>\n",
       "    <tr>\n",
       "      <th>Between 0 and 50</th>\n",
       "      <td>195.402612</td>\n",
       "      <td>200.5935</td>\n",
       "      <td>21.580479</td>\n",
       "    </tr>\n",
       "    <tr>\n",
       "      <th>Between 50 and 100</th>\n",
       "      <td>NaN</td>\n",
       "      <td>NaN</td>\n",
       "      <td>NaN</td>\n",
       "    </tr>\n",
       "    <tr>\n",
       "      <th>Between 100 and 150</th>\n",
       "      <td>204.482128</td>\n",
       "      <td>206.5600</td>\n",
       "      <td>11.341499</td>\n",
       "    </tr>\n",
       "    <tr>\n",
       "      <th>Between 150 and 200</th>\n",
       "      <td>223.523929</td>\n",
       "      <td>226.9060</td>\n",
       "      <td>19.603777</td>\n",
       "    </tr>\n",
       "    <tr>\n",
       "      <th>Between 200 and 250</th>\n",
       "      <td>203.902916</td>\n",
       "      <td>204.5680</td>\n",
       "      <td>9.142384</td>\n",
       "    </tr>\n",
       "    <tr>\n",
       "      <th>Between 250 and 300</th>\n",
       "      <td>188.403188</td>\n",
       "      <td>189.2690</td>\n",
       "      <td>12.300952</td>\n",
       "    </tr>\n",
       "    <tr>\n",
       "      <th>Between 300 and 350</th>\n",
       "      <td>NaN</td>\n",
       "      <td>NaN</td>\n",
       "      <td>NaN</td>\n",
       "    </tr>\n",
       "    <tr>\n",
       "      <th>Between 350 and 400</th>\n",
       "      <td>NaN</td>\n",
       "      <td>NaN</td>\n",
       "      <td>NaN</td>\n",
       "    </tr>\n",
       "    <tr>\n",
       "      <th>Between 400 and 450</th>\n",
       "      <td>224.029943</td>\n",
       "      <td>224.0540</td>\n",
       "      <td>8.528814</td>\n",
       "    </tr>\n",
       "    <tr>\n",
       "      <th>Between 450 and 500</th>\n",
       "      <td>NaN</td>\n",
       "      <td>NaN</td>\n",
       "      <td>NaN</td>\n",
       "    </tr>\n",
       "    <tr>\n",
       "      <th>Between 500 and 550</th>\n",
       "      <td>NaN</td>\n",
       "      <td>NaN</td>\n",
       "      <td>NaN</td>\n",
       "    </tr>\n",
       "    <tr>\n",
       "      <th>Between 550 and 600</th>\n",
       "      <td>193.563826</td>\n",
       "      <td>196.6300</td>\n",
       "      <td>16.360166</td>\n",
       "    </tr>\n",
       "    <tr>\n",
       "      <th>Between 600 and 650</th>\n",
       "      <td>NaN</td>\n",
       "      <td>NaN</td>\n",
       "      <td>NaN</td>\n",
       "    </tr>\n",
       "    <tr>\n",
       "      <th>Between 650 and 700</th>\n",
       "      <td>222.769838</td>\n",
       "      <td>224.8725</td>\n",
       "      <td>9.270860</td>\n",
       "    </tr>\n",
       "    <tr>\n",
       "      <th>Between 700 and 750</th>\n",
       "      <td>NaN</td>\n",
       "      <td>NaN</td>\n",
       "      <td>NaN</td>\n",
       "    </tr>\n",
       "    <tr>\n",
       "      <th>Between 750 and 800</th>\n",
       "      <td>205.282315</td>\n",
       "      <td>207.7960</td>\n",
       "      <td>10.737036</td>\n",
       "    </tr>\n",
       "    <tr>\n",
       "      <th>Between 800 and 900</th>\n",
       "      <td>NaN</td>\n",
       "      <td>NaN</td>\n",
       "      <td>NaN</td>\n",
       "    </tr>\n",
       "    <tr>\n",
       "      <th>Between 900 and 1000</th>\n",
       "      <td>NaN</td>\n",
       "      <td>NaN</td>\n",
       "      <td>NaN</td>\n",
       "    </tr>\n",
       "    <tr>\n",
       "      <th>greater than 1000</th>\n",
       "      <td>189.674145</td>\n",
       "      <td>189.6865</td>\n",
       "      <td>3.581610</td>\n",
       "    </tr>\n",
       "  </tbody>\n",
       "</table>\n",
       "</div>"
      ],
      "text/plain": [
       "                      mean_fastestLapSpeed  median_fastestLapSpeed  \\\n",
       "bins_alt                                                             \n",
       "less than 0                     197.247349                199.6540   \n",
       "Between 0 and 50                195.402612                200.5935   \n",
       "Between 50 and 100                     NaN                     NaN   \n",
       "Between 100 and 150             204.482128                206.5600   \n",
       "Between 150 and 200             223.523929                226.9060   \n",
       "Between 200 and 250             203.902916                204.5680   \n",
       "Between 250 and 300             188.403188                189.2690   \n",
       "Between 300 and 350                    NaN                     NaN   \n",
       "Between 350 and 400                    NaN                     NaN   \n",
       "Between 400 and 450             224.029943                224.0540   \n",
       "Between 450 and 500                    NaN                     NaN   \n",
       "Between 500 and 550                    NaN                     NaN   \n",
       "Between 550 and 600             193.563826                196.6300   \n",
       "Between 600 and 650                    NaN                     NaN   \n",
       "Between 650 and 700             222.769838                224.8725   \n",
       "Between 700 and 750                    NaN                     NaN   \n",
       "Between 750 and 800             205.282315                207.7960   \n",
       "Between 800 and 900                    NaN                     NaN   \n",
       "Between 900 and 1000                   NaN                     NaN   \n",
       "greater than 1000               189.674145                189.6865   \n",
       "\n",
       "                      std_fastestLapSpeed  \n",
       "bins_alt                                   \n",
       "less than 0                      8.804440  \n",
       "Between 0 and 50                21.580479  \n",
       "Between 50 and 100                    NaN  \n",
       "Between 100 and 150             11.341499  \n",
       "Between 150 and 200             19.603777  \n",
       "Between 200 and 250              9.142384  \n",
       "Between 250 and 300             12.300952  \n",
       "Between 300 and 350                   NaN  \n",
       "Between 350 and 400                   NaN  \n",
       "Between 400 and 450              8.528814  \n",
       "Between 450 and 500                   NaN  \n",
       "Between 500 and 550                   NaN  \n",
       "Between 550 and 600             16.360166  \n",
       "Between 600 and 650                   NaN  \n",
       "Between 650 and 700              9.270860  \n",
       "Between 700 and 750                   NaN  \n",
       "Between 750 and 800             10.737036  \n",
       "Between 800 and 900                   NaN  \n",
       "Between 900 and 1000                  NaN  \n",
       "greater than 1000                3.581610  "
      ]
     },
     "execution_count": 146,
     "metadata": {},
     "output_type": "execute_result"
    }
   ],
   "source": [
    "bins_alt = [-1000,0, 50, 100, 150, 200, 250, 300, 350, 400, 450, 500, 550, 600, 650, 700, 750, 800, 900, 1000, 10000]\n",
    "labels_alt = [\"less than 0\",\n",
    "            \"Between 0 and 50\",\n",
    "            \"Between 50 and 100\",\n",
    "            \"Between 100 and 150\",\n",
    "            \"Between 150 and 200\",\n",
    "            \"Between 200 and 250\",\n",
    "            \"Between 250 and 300\",\n",
    "            \"Between 300 and 350\",\n",
    "            \"Between 350 and 400\",\n",
    "            \"Between 400 and 450\",\n",
    "            \"Between 450 and 500\",\n",
    "            \"Between 500 and 550\",\n",
    "            \"Between 550 and 600\",\n",
    "            \"Between 600 and 650\",\n",
    "            \"Between 650 and 700\",\n",
    "            \"Between 700 and 750\",\n",
    "            \"Between 750 and 800\",\n",
    "            \"Between 800 and 900\",\n",
    "            \"Between 900 and 1000\",\n",
    "            \"greater than 1000\"]\n",
    "           \n",
    "\n",
    "data_merge[\"bins_alt\"] = pd.cut(data_merge[\"alt_numeric\"],\n",
    "                              bins = bins_alt,\n",
    "                              right = True,\n",
    "                              labels = labels_alt)\n",
    "\n",
    "\n",
    "\n",
    "## descriptive statistics/result table\n",
    "table = data_merge.groupby(\"bins_alt\").agg(mean_fastestLapSpeed = ('fastestLapSpeed_numeric', 'mean'),\n",
    "                                           median_fastestLapSpeed = ('fastestLapSpeed_numeric', 'median'),\n",
    "                                           std_fastestLapSpeed = ('fastestLapSpeed_numeric', 'std'))\n",
    "table"
   ]
  },
  {
   "attachments": {},
   "cell_type": "markdown",
   "metadata": {},
   "source": [
    "Results:\n",
    "o This should contain a combination of code to produce tables/plots and\n",
    "markdown text explaining what the findings are.\n",
    "o Be creative! The idea is to understand the relationship between different sets of\n",
    "columns to answer an interesting question about the data."
   ]
  },
  {
   "cell_type": "code",
   "execution_count": null,
   "metadata": {},
   "outputs": [],
   "source": [
    "plt.bar(labels_alt, table[\"mean_fastestLapSpeed\"])"
   ]
  },
  {
   "attachments": {},
   "cell_type": "markdown",
   "metadata": {},
   "source": [
    "Discussion:\n",
    "o Provide a brief 1 paragraph markdown chunk summarizing your findings. Describe the main things you learned from the data"
   ]
  },
  {
   "cell_type": "code",
   "execution_count": null,
   "metadata": {},
   "outputs": [],
   "source": []
  }
 ],
 "metadata": {
  "kernelspec": {
   "display_name": "base",
   "language": "python",
   "name": "python3"
  },
  "language_info": {
   "codemirror_mode": {
    "name": "ipython",
    "version": 3
   },
   "file_extension": ".py",
   "mimetype": "text/x-python",
   "name": "python",
   "nbconvert_exporter": "python",
   "pygments_lexer": "ipython3",
   "version": "3.9.13"
  },
  "orig_nbformat": 4
 },
 "nbformat": 4,
 "nbformat_minor": 2
}
