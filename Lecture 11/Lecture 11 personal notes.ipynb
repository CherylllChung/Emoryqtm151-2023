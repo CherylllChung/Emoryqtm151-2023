{
 "cells": [
  {
   "attachments": {},
   "cell_type": "markdown",
   "metadata": {},
   "source": [
    "# <span style=\"color:darkblue\"> Lecture 11: Application 1 - Linear Regression </span>\n",
    "\n",
    "<font size = \"5\">\n",
    "\n",
    "We will fit statistical models to data\n",
    "\n",
    "- I will give an intro with minimal stats background\n",
    "- See the optional lecture file for advanced users\n",
    "\n",
    "The primary goal is to practice previous commands"
   ]
  },
  {
   "attachments": {},
   "cell_type": "markdown",
   "metadata": {},
   "source": [
    "# <span style=\"color:darkblue\"> I. Import Libraries </span>\n"
   ]
  },
  {
   "cell_type": "code",
   "execution_count": 1,
   "metadata": {},
   "outputs": [],
   "source": [
    "# The \"pandas\" library is used for processing datasets\n",
    "# The \"numpy\" is for numeric observations and random numbers\n",
    "# The \"matplotlib.pyplot\" library is for creating graphs\n",
    "\n",
    "import pandas as pd\n",
    "import numpy as np\n",
    "import matplotlib.pyplot as plt"
   ]
  },
  {
   "attachments": {},
   "cell_type": "markdown",
   "metadata": {},
   "source": [
    "<font size = \"5\">\n",
    "\n",
    "Install the \"statsmodels\" library\n",
    "- Run \"pip3 install statsmodels\" in the terminal\n",
    "- Automatically included in Anaconda"
   ]
  },
  {
   "cell_type": "code",
   "execution_count": 2,
   "metadata": {},
   "outputs": [],
   "source": [
    "# We will \"alias\" two sublibraries in \"statsmodels\"\n",
    "# \"statsmodels.formula.api\" contains functions to estimate models\n",
    "# \"statsmodels.api\" contains general-use statistical options\n",
    "\n",
    "import statsmodels.api as sm\n",
    "import statsmodels.formula.api as smf\n"
   ]
  },
  {
   "attachments": {},
   "cell_type": "markdown",
   "metadata": {},
   "source": [
    "# <span style=\"color:darkblue\"> II. Generate simulated Data </span>\n",
    "\n",
    "<font size = \"5\">\n",
    "\n",
    "Create an empty dataset"
   ]
  },
  {
   "cell_type": "code",
   "execution_count": 3,
   "metadata": {},
   "outputs": [],
   "source": [
    "dataset = pd.DataFrame([])"
   ]
  },
  {
   "attachments": {},
   "cell_type": "markdown",
   "metadata": {},
   "source": [
    "<font size = \"5\">\n",
    "\n",
    "Create two random variables of size ($n = 50$)"
   ]
  },
  {
   "cell_type": "code",
   "execution_count": 18,
   "metadata": {},
   "outputs": [],
   "source": [
    "n = 50\n",
    "dataset[\"x\"] = np.random.normal(loc = 0,scale = 1, size = n)\n",
    "dataset[\"e\"] = np.random.normal(loc = 0,scale = 1, size = n)\n"
   ]
  },
  {
   "attachments": {},
   "cell_type": "markdown",
   "metadata": {},
   "source": [
    "<font size = \"5\">\n",
    "\n",
    "Create data from the linear model\n",
    "\n",
    "$ y = b_0 + b_1 x + e, \\qquad b_0 = 1, b_1 = 2.$"
   ]
  },
  {
   "cell_type": "code",
   "execution_count": 19,
   "metadata": {},
   "outputs": [],
   "source": [
    "# The number b0 is known as the \"intercept\"\n",
    "# The number b1 is known as the \"slope\"\n",
    "\n",
    "b0 = 1\n",
    "b1 = 2\n",
    "\n",
    "# We can compute formulas directly over dataset columns\n",
    "dataset[\"y\"] = b0 + b1 * dataset[\"x\"] + dataset[\"e\"]"
   ]
  },
  {
   "attachments": {},
   "cell_type": "markdown",
   "metadata": {},
   "source": [
    "<font size = \"5\">\n",
    "\n",
    "Compute the theoretically best fit line\n",
    "\n",
    "$ p = b_0 + b_1 x$"
   ]
  },
  {
   "cell_type": "code",
   "execution_count": 20,
   "metadata": {},
   "outputs": [],
   "source": [
    "dataset[\"p\"] = b0 + b1*dataset[\"x\"]"
   ]
  },
  {
   "attachments": {},
   "cell_type": "markdown",
   "metadata": {},
   "source": [
    "<font size = \"5\">\n",
    "\n",
    "Plot the data"
   ]
  },
  {
   "cell_type": "code",
   "execution_count": 21,
   "metadata": {},
   "outputs": [
    {
     "data": {
      "image/png": "[encoded data removed]",
      "text/plain": [
       "<Figure size 640x480 with 1 Axes>"
      ]
     },
     "metadata": {},
     "output_type": "display_data"
    }
   ],
   "source": [
    "plt.scatter(x = dataset[\"x\"], y = dataset[\"y\"])\n",
    "plt.scatter(x = dataset[\"x\"], y = dataset[\"p\"])\n",
    "\n",
    "plt.xlabel(\"X Variable\")\n",
    "plt.ylabel(\"Y Variable\")\n",
    "plt.legend(labels = [\"Data points\", \"Best fit line\"])\n",
    "plt.show()\n"
   ]
  },
  {
   "attachments": {},
   "cell_type": "markdown",
   "metadata": {},
   "source": [
    "<font size = \"5\" >\n",
    "\n",
    "Try it yourself\n",
    "\n",
    "- Create a new dataset called $\\quad$```subset_above2``` \n",
    "- This subsets records with $y \\ge 2$ using $\\quad$```.query()```\n",
    "- Count the original rows $\\quad$ ```len(dataset)```\n",
    "- Count the subsetted rows $\\quad$ ```len(subset_above2)```\n",
    "- Compute the proportion of subsetted observations\n"
   ]
  },
  {
   "cell_type": "code",
   "execution_count": 34,
   "metadata": {},
   "outputs": [
    {
     "name": "stdout",
     "output_type": "stream",
     "text": [
      "50\n",
      "15\n",
      "0.3\n"
     ]
    }
   ],
   "source": [
    "# Write your own code here\n",
    "\n",
    "subset_above2 = dataset.query(\"y>=2\")\n",
    "\n",
    "print(len(dataset))\n",
    "print(len(subset_above2))\n",
    "print(len(subset_above2)/len(dataset))\n"
   ]
  },
  {
   "attachments": {},
   "cell_type": "markdown",
   "metadata": {},
   "source": [
    "<font size = \"5\">\n",
    "\n",
    "Try it yourself!\n",
    "\n",
    "- Store the sample mean of $y$ as $\\quad$ ```ybar```\n",
    "- Compute the standard deviation of $y$ $\\quad$ ```stdv_sample```\n",
    "- Use ```.query()``` to subset observations that satisfy\n",
    "\n",
    "$ \\qquad abs\\left(y - ybar \\right) \\le stdv\\_sample $\n",
    "\n",
    "$\\quad$ HINT: Use ```.mean()```,$\\text{ }$ ```.std()``` <br>\n",
    "$\\quad$ HINT: Use the globals  $\\ $ ```@xbar```,$\\text{ }$ ```@stdv_sample```"
   ]
  },
  {
   "cell_type": "code",
   "execution_count": 37,
   "metadata": {},
   "outputs": [
    {
     "data": {
      "text/html": [
       "<div>\n",
       "<style scoped>\n",
       "    .dataframe tbody tr th:only-of-type {\n",
       "        vertical-align: middle;\n",
       "    }\n",
       "\n",
       "    .dataframe tbody tr th {\n",
       "        vertical-align: top;\n",
       "    }\n",
       "\n",
       "    .dataframe thead th {\n",
       "        text-align: right;\n",
       "    }\n",
       "</style>\n",
       "<table border=\"1\" class=\"dataframe\">\n",
       "  <thead>\n",
       "    <tr style=\"text-align: right;\">\n",
       "      <th></th>\n",
       "      <th>x</th>\n",
       "      <th>e</th>\n",
       "      <th>y</th>\n",
       "      <th>p</th>\n",
       "      <th>p_estimated</th>\n",
       "    </tr>\n",
       "  </thead>\n",
       "  <tbody>\n",
       "    <tr>\n",
       "      <th>0</th>\n",
       "      <td>-0.168881</td>\n",
       "      <td>0.464922</td>\n",
       "      <td>1.127161</td>\n",
       "      <td>0.662238</td>\n",
       "      <td>-0.560105</td>\n",
       "    </tr>\n",
       "    <tr>\n",
       "      <th>1</th>\n",
       "      <td>-0.213447</td>\n",
       "      <td>0.230928</td>\n",
       "      <td>0.804033</td>\n",
       "      <td>0.573105</td>\n",
       "      <td>2.017716</td>\n",
       "    </tr>\n",
       "    <tr>\n",
       "      <th>2</th>\n",
       "      <td>0.196099</td>\n",
       "      <td>-0.206121</td>\n",
       "      <td>1.186077</td>\n",
       "      <td>1.392199</td>\n",
       "      <td>0.841401</td>\n",
       "    </tr>\n",
       "    <tr>\n",
       "      <th>3</th>\n",
       "      <td>-0.922640</td>\n",
       "      <td>0.894298</td>\n",
       "      <td>0.049018</td>\n",
       "      <td>-0.845279</td>\n",
       "      <td>4.571119</td>\n",
       "    </tr>\n",
       "    <tr>\n",
       "      <th>4</th>\n",
       "      <td>-0.627762</td>\n",
       "      <td>-0.067809</td>\n",
       "      <td>-0.323332</td>\n",
       "      <td>-0.255523</td>\n",
       "      <td>-1.773715</td>\n",
       "    </tr>\n",
       "    <tr>\n",
       "      <th>5</th>\n",
       "      <td>1.394011</td>\n",
       "      <td>-1.026008</td>\n",
       "      <td>2.762014</td>\n",
       "      <td>3.788022</td>\n",
       "      <td>-1.037075</td>\n",
       "    </tr>\n",
       "    <tr>\n",
       "      <th>6</th>\n",
       "      <td>0.570152</td>\n",
       "      <td>0.648207</td>\n",
       "      <td>2.788512</td>\n",
       "      <td>2.140305</td>\n",
       "      <td>-1.819313</td>\n",
       "    </tr>\n",
       "    <tr>\n",
       "      <th>7</th>\n",
       "      <td>-0.117129</td>\n",
       "      <td>-1.301235</td>\n",
       "      <td>-0.535492</td>\n",
       "      <td>0.765743</td>\n",
       "      <td>1.489214</td>\n",
       "    </tr>\n",
       "    <tr>\n",
       "      <th>9</th>\n",
       "      <td>0.436385</td>\n",
       "      <td>-1.138648</td>\n",
       "      <td>0.734121</td>\n",
       "      <td>1.872769</td>\n",
       "      <td>2.010001</td>\n",
       "    </tr>\n",
       "    <tr>\n",
       "      <th>10</th>\n",
       "      <td>-0.758887</td>\n",
       "      <td>0.405244</td>\n",
       "      <td>-0.112530</td>\n",
       "      <td>-0.517774</td>\n",
       "      <td>-0.509172</td>\n",
       "    </tr>\n",
       "    <tr>\n",
       "      <th>11</th>\n",
       "      <td>-0.016326</td>\n",
       "      <td>-0.879834</td>\n",
       "      <td>0.087515</td>\n",
       "      <td>0.967349</td>\n",
       "      <td>0.205360</td>\n",
       "    </tr>\n",
       "    <tr>\n",
       "      <th>13</th>\n",
       "      <td>0.010201</td>\n",
       "      <td>0.377770</td>\n",
       "      <td>1.398172</td>\n",
       "      <td>1.020402</td>\n",
       "      <td>-1.071526</td>\n",
       "    </tr>\n",
       "    <tr>\n",
       "      <th>15</th>\n",
       "      <td>-0.009581</td>\n",
       "      <td>1.824905</td>\n",
       "      <td>2.805743</td>\n",
       "      <td>0.980838</td>\n",
       "      <td>-1.349840</td>\n",
       "    </tr>\n",
       "    <tr>\n",
       "      <th>16</th>\n",
       "      <td>-0.335743</td>\n",
       "      <td>-1.209378</td>\n",
       "      <td>-0.880864</td>\n",
       "      <td>0.328515</td>\n",
       "      <td>1.192181</td>\n",
       "    </tr>\n",
       "    <tr>\n",
       "      <th>19</th>\n",
       "      <td>-0.520364</td>\n",
       "      <td>0.525761</td>\n",
       "      <td>0.485034</td>\n",
       "      <td>-0.040728</td>\n",
       "      <td>3.306333</td>\n",
       "    </tr>\n",
       "    <tr>\n",
       "      <th>20</th>\n",
       "      <td>-0.842139</td>\n",
       "      <td>0.990291</td>\n",
       "      <td>0.306012</td>\n",
       "      <td>-0.684279</td>\n",
       "      <td>-0.495629</td>\n",
       "    </tr>\n",
       "    <tr>\n",
       "      <th>21</th>\n",
       "      <td>-0.134765</td>\n",
       "      <td>0.591835</td>\n",
       "      <td>1.322304</td>\n",
       "      <td>0.730469</td>\n",
       "      <td>4.945790</td>\n",
       "    </tr>\n",
       "    <tr>\n",
       "      <th>26</th>\n",
       "      <td>-0.105465</td>\n",
       "      <td>-1.073536</td>\n",
       "      <td>-0.284466</td>\n",
       "      <td>0.789070</td>\n",
       "      <td>3.276798</td>\n",
       "    </tr>\n",
       "    <tr>\n",
       "      <th>27</th>\n",
       "      <td>-0.780775</td>\n",
       "      <td>0.173977</td>\n",
       "      <td>-0.387572</td>\n",
       "      <td>-0.561549</td>\n",
       "      <td>-4.563386</td>\n",
       "    </tr>\n",
       "    <tr>\n",
       "      <th>28</th>\n",
       "      <td>-0.463797</td>\n",
       "      <td>-0.522692</td>\n",
       "      <td>-0.450285</td>\n",
       "      <td>0.072406</td>\n",
       "      <td>1.127009</td>\n",
       "    </tr>\n",
       "    <tr>\n",
       "      <th>29</th>\n",
       "      <td>-0.322799</td>\n",
       "      <td>0.025690</td>\n",
       "      <td>0.380092</td>\n",
       "      <td>0.354401</td>\n",
       "      <td>3.784052</td>\n",
       "    </tr>\n",
       "    <tr>\n",
       "      <th>30</th>\n",
       "      <td>1.817689</td>\n",
       "      <td>-2.402885</td>\n",
       "      <td>2.232493</td>\n",
       "      <td>4.635378</td>\n",
       "      <td>-0.562451</td>\n",
       "    </tr>\n",
       "    <tr>\n",
       "      <th>31</th>\n",
       "      <td>-1.039989</td>\n",
       "      <td>-0.256282</td>\n",
       "      <td>-1.336259</td>\n",
       "      <td>-1.079977</td>\n",
       "      <td>0.354515</td>\n",
       "    </tr>\n",
       "    <tr>\n",
       "      <th>34</th>\n",
       "      <td>-0.446758</td>\n",
       "      <td>0.025976</td>\n",
       "      <td>0.132460</td>\n",
       "      <td>0.106484</td>\n",
       "      <td>1.610470</td>\n",
       "    </tr>\n",
       "    <tr>\n",
       "      <th>36</th>\n",
       "      <td>-0.077656</td>\n",
       "      <td>-1.343496</td>\n",
       "      <td>-0.498809</td>\n",
       "      <td>0.844688</td>\n",
       "      <td>3.508717</td>\n",
       "    </tr>\n",
       "    <tr>\n",
       "      <th>39</th>\n",
       "      <td>-0.012962</td>\n",
       "      <td>-2.322319</td>\n",
       "      <td>-1.348243</td>\n",
       "      <td>0.974076</td>\n",
       "      <td>-0.414009</td>\n",
       "    </tr>\n",
       "    <tr>\n",
       "      <th>41</th>\n",
       "      <td>-0.619776</td>\n",
       "      <td>0.886876</td>\n",
       "      <td>0.647325</td>\n",
       "      <td>-0.239551</td>\n",
       "      <td>-2.075138</td>\n",
       "    </tr>\n",
       "    <tr>\n",
       "      <th>43</th>\n",
       "      <td>0.037402</td>\n",
       "      <td>0.823100</td>\n",
       "      <td>1.897904</td>\n",
       "      <td>1.074804</td>\n",
       "      <td>3.315540</td>\n",
       "    </tr>\n",
       "    <tr>\n",
       "      <th>44</th>\n",
       "      <td>-0.286144</td>\n",
       "      <td>0.606548</td>\n",
       "      <td>1.034259</td>\n",
       "      <td>0.427711</td>\n",
       "      <td>2.127823</td>\n",
       "    </tr>\n",
       "    <tr>\n",
       "      <th>45</th>\n",
       "      <td>0.906120</td>\n",
       "      <td>-0.116551</td>\n",
       "      <td>2.695688</td>\n",
       "      <td>2.812240</td>\n",
       "      <td>-0.336528</td>\n",
       "    </tr>\n",
       "    <tr>\n",
       "      <th>46</th>\n",
       "      <td>0.844110</td>\n",
       "      <td>-2.005839</td>\n",
       "      <td>0.682381</td>\n",
       "      <td>2.688220</td>\n",
       "      <td>-3.084087</td>\n",
       "    </tr>\n",
       "    <tr>\n",
       "      <th>47</th>\n",
       "      <td>-0.933559</td>\n",
       "      <td>0.314843</td>\n",
       "      <td>-0.552275</td>\n",
       "      <td>-0.867117</td>\n",
       "      <td>0.501720</td>\n",
       "    </tr>\n",
       "    <tr>\n",
       "      <th>48</th>\n",
       "      <td>-1.067492</td>\n",
       "      <td>-0.421008</td>\n",
       "      <td>-1.555991</td>\n",
       "      <td>-1.134983</td>\n",
       "      <td>2.406769</td>\n",
       "    </tr>\n",
       "    <tr>\n",
       "      <th>49</th>\n",
       "      <td>-0.026781</td>\n",
       "      <td>0.497165</td>\n",
       "      <td>1.443603</td>\n",
       "      <td>0.946438</td>\n",
       "      <td>5.109704</td>\n",
       "    </tr>\n",
       "  </tbody>\n",
       "</table>\n",
       "</div>"
      ],
      "text/plain": [
       "           x         e         y         p  p_estimated\n",
       "0  -0.168881  0.464922  1.127161  0.662238    -0.560105\n",
       "1  -0.213447  0.230928  0.804033  0.573105     2.017716\n",
       "2   0.196099 -0.206121  1.186077  1.392199     0.841401\n",
       "3  -0.922640  0.894298  0.049018 -0.845279     4.571119\n",
       "4  -0.627762 -0.067809 -0.323332 -0.255523    -1.773715\n",
       "5   1.394011 -1.026008  2.762014  3.788022    -1.037075\n",
       "6   0.570152  0.648207  2.788512  2.140305    -1.819313\n",
       "7  -0.117129 -1.301235 -0.535492  0.765743     1.489214\n",
       "9   0.436385 -1.138648  0.734121  1.872769     2.010001\n",
       "10 -0.758887  0.405244 -0.112530 -0.517774    -0.509172\n",
       "11 -0.016326 -0.879834  0.087515  0.967349     0.205360\n",
       "13  0.010201  0.377770  1.398172  1.020402    -1.071526\n",
       "15 -0.009581  1.824905  2.805743  0.980838    -1.349840\n",
       "16 -0.335743 -1.209378 -0.880864  0.328515     1.192181\n",
       "19 -0.520364  0.525761  0.485034 -0.040728     3.306333\n",
       "20 -0.842139  0.990291  0.306012 -0.684279    -0.495629\n",
       "21 -0.134765  0.591835  1.322304  0.730469     4.945790\n",
       "26 -0.105465 -1.073536 -0.284466  0.789070     3.276798\n",
       "27 -0.780775  0.173977 -0.387572 -0.561549    -4.563386\n",
       "28 -0.463797 -0.522692 -0.450285  0.072406     1.127009\n",
       "29 -0.322799  0.025690  0.380092  0.354401     3.784052\n",
       "30  1.817689 -2.402885  2.232493  4.635378    -0.562451\n",
       "31 -1.039989 -0.256282 -1.336259 -1.079977     0.354515\n",
       "34 -0.446758  0.025976  0.132460  0.106484     1.610470\n",
       "36 -0.077656 -1.343496 -0.498809  0.844688     3.508717\n",
       "39 -0.012962 -2.322319 -1.348243  0.974076    -0.414009\n",
       "41 -0.619776  0.886876  0.647325 -0.239551    -2.075138\n",
       "43  0.037402  0.823100  1.897904  1.074804     3.315540\n",
       "44 -0.286144  0.606548  1.034259  0.427711     2.127823\n",
       "45  0.906120 -0.116551  2.695688  2.812240    -0.336528\n",
       "46  0.844110 -2.005839  0.682381  2.688220    -3.084087\n",
       "47 -0.933559  0.314843 -0.552275 -0.867117     0.501720\n",
       "48 -1.067492 -0.421008 -1.555991 -1.134983     2.406769\n",
       "49 -0.026781  0.497165  1.443603  0.946438     5.109704"
      ]
     },
     "execution_count": 37,
     "metadata": {},
     "output_type": "execute_result"
    }
   ],
   "source": [
    "# Note: abs(...) is the absolute value function\n",
    "# Write your own code \n",
    "\n",
    "ybar = dataset[\"y\"].mean()\n",
    "stdv_sample = dataset[\"y\"].std()\n",
    "\n",
    "subset=dataset.query(\"abs(y-@ybar) <= @stdv_sample\")\n",
    "subset\n"
   ]
  },
  {
   "attachments": {},
   "cell_type": "markdown",
   "metadata": {},
   "source": [
    "# <span style=\"color:darkblue\"> II. Estimate the best fit line</span>\n"
   ]
  },
  {
   "attachments": {},
   "cell_type": "markdown",
   "metadata": {},
   "source": [
    "<font size = \"5\">\n",
    "\n",
    "We have data on $(y,x)$ but we don't know $(b_0,b_1)$"
   ]
  },
  {
   "attachments": {},
   "cell_type": "markdown",
   "metadata": {},
   "source": [
    "<font size = \"5\">\n",
    "\n",
    "Let's fit an OLS model\n",
    "\n",
    "- It's a statistical approach to get $(b_0,b_1)$\n",
    "- No need to know how it works but why we want it"
   ]
  },
  {
   "cell_type": "code",
   "execution_count": 39,
   "metadata": {},
   "outputs": [],
   "source": [
    "#------------------------------------------------------------------------------#\n",
    "# We use the subfunction \"ols()\" in the library \"smf\"\n",
    "#---- (i) The first argument is a string called \"formula\" with the format \n",
    "#-------- \"outcome ~ indepdent_vars\"\n",
    "#----(ii) the second argument is the dataset\n",
    "# The second line fits the model with standard errors \"cov\". In this case we \n",
    "# use \"robust\" standard errors (HC1)\n",
    "#-------------------------------------------------------------------------------#\n",
    "\n",
    "model   = smf.ols(formula = 'y ~  x',data = dataset)\n",
    "results = model.fit(cov_type = \"HC1\")\n",
    "\n",
    "# Can also run as one line\n",
    "# results = smf.ols(formula = 'y ~ x',data = dataset).fit(cov = \"HC1\")\n",
    "\n",
    "#Trying to find B0 and B1 to make a good prediction from the value of x \n"
   ]
  },
  {
   "attachments": {},
   "cell_type": "markdown",
   "metadata": {},
   "source": [
    "<font size = \"5\">\n",
    "\n",
    "Compute the estimated best fit line"
   ]
  },
  {
   "cell_type": "code",
   "execution_count": 40,
   "metadata": {},
   "outputs": [
    {
     "name": "stdout",
     "output_type": "stream",
     "text": [
      "Intercept    0.971121\n",
      "x            1.987059\n",
      "dtype: float64\n"
     ]
    }
   ],
   "source": [
    "# We will use \".params\" to get the attribute \"parameters from the results\"\n",
    "\n",
    "b_list = results.params\n",
    "print(b_list)\n",
    "\n",
    "# We can then compute the \"estimated\" best fit lines\n",
    "# by extracting the intercept and slop from \"b_list\"\n",
    "\n",
    "dataset[\"p_estimated\"] = b_list[0] + b_list[1]  * dataset[\"x\"]\n",
    "\n",
    "# Note: The estimators for \"b0\" and \"b1\" are close to \n",
    "# the values we used to generate the data\n"
   ]
  },
  {
   "attachments": {},
   "cell_type": "markdown",
   "metadata": {},
   "source": [
    "<font size = \"5\">\n",
    "\n",
    "Plot the best fit line"
   ]
  },
  {
   "cell_type": "code",
   "execution_count": 42,
   "metadata": {},
   "outputs": [
    {
     "data": {
      "image/png": "[encoded data removed]",
      "text/plain": [
       "<Figure size 640x480 with 1 Axes>"
      ]
     },
     "metadata": {},
     "output_type": "display_data"
    }
   ],
   "source": [
    "# Use scatter twice, with different \"y\" inputs\n",
    "# THe \"legend\" command creates a box on with the color labels\n",
    "\n",
    "plt.scatter(x = dataset[\"x\"],y = dataset[\"y\"])\n",
    "plt.scatter(x = dataset[\"x\"],y = dataset[\"p_estimated\"])\n",
    "\n",
    "plt.legend(labels = [\"Data points\",\"Estimated Predicted Model\"])\n",
    "plt.show()\n"
   ]
  },
  {
   "attachments": {},
   "cell_type": "markdown",
   "metadata": {},
   "source": [
    "<font size = \"5\">\n",
    "\n",
    "Try it yourself!\n",
    "- How good is the estimated fit?\n",
    "- Create two overlapping scatterplots\n",
    "- $(p \\text{ }$ vs $\\text{ } x)$ and $(p_{estimated} \\text{ }$ vs $\\text{ } x)$\n",
    "- Create a legend to label each plot"
   ]
  },
  {
   "cell_type": "code",
   "execution_count": 13,
   "metadata": {},
   "outputs": [],
   "source": [
    "# Write your own code\n",
    "\n",
    "\n",
    "\n",
    "\n",
    "\n"
   ]
  },
  {
   "attachments": {},
   "cell_type": "markdown",
   "metadata": {},
   "source": [
    "<font size = \"5\">\n",
    "\n",
    "Try it youself\n",
    "\n",
    "- Compute a column with the formula\n",
    "\n",
    "$\\quad$ ``` sample_error = y - p_estimated```\n",
    "\n",
    "- Create a lambda function <br>\n",
    "\n",
    "$\\quad$ ``` fn_positive_error  error: error >= 0  ```\n",
    "\n",
    "- Compute a column for whether the error is positive <br>\n",
    "using ``` .apply()```\n",
    "\n"
   ]
  },
  {
   "cell_type": "code",
   "execution_count": 14,
   "metadata": {},
   "outputs": [],
   "source": [
    "# Write your own code\n",
    "\n",
    "\n",
    "\n",
    "\n",
    "\n"
   ]
  },
  {
   "attachments": {},
   "cell_type": "markdown",
   "metadata": {},
   "source": [
    "<font size = \"5\">\n",
    "\n",
    "Try it yourself\n",
    "\n",
    "- Compute a new column <br>\n",
    "\n",
    "```error_sqr = sample_error ** 2```\n",
    "\n",
    "- Calculate the mean of ```error_sqr```"
   ]
  },
  {
   "cell_type": "code",
   "execution_count": 15,
   "metadata": {},
   "outputs": [],
   "source": [
    "# Write your own code\n",
    "\n",
    "\n",
    "\n",
    "\n",
    "\n",
    "\n",
    "\n"
   ]
  }
 ],
 "metadata": {
  "kernelspec": {
   "display_name": "base",
   "language": "python",
   "name": "python3"
  },
  "language_info": {
   "codemirror_mode": {
    "name": "ipython",
    "version": 3
   },
   "file_extension": ".py",
   "mimetype": "text/x-python",
   "name": "python",
   "nbconvert_exporter": "python",
   "pygments_lexer": "ipython3",
   "version": "3.9.13"
  },
  "orig_nbformat": 4,
  "vscode": {
   "interpreter": {
    "hash": "3f17069bb745b2195fd5448587b8ed25c7543a6c19927518b5dd2925e733db69"
   }
  }
 },
 "nbformat": 4,
 "nbformat_minor": 2
}
